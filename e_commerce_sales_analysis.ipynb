{
 "cells": [
  {
   "metadata": {
    "ExecuteTime": {
     "end_time": "2025-03-20T04:57:54.132831Z",
     "start_time": "2025-03-20T04:57:54.127352Z"
    }
   },
   "cell_type": "code",
   "source": [
    "import pandas as pd\n",
    "import matplotlib.pyplot as plt\n",
    "import seaborn as sns\n",
    "import warnings\n",
    "\n",
    "from matplotlib.pyplot import legend\n",
    "\n",
    "warnings.filterwarnings('ignore')"
   ],
   "id": "a76092f2dd2f2e9",
   "outputs": [],
   "execution_count": 14
  },
  {
   "metadata": {
    "ExecuteTime": {
     "end_time": "2025-03-20T04:57:56.478605Z",
     "start_time": "2025-03-20T04:57:56.422485Z"
    }
   },
   "cell_type": "code",
   "source": "df = pd.read_csv(\"E:/E-commerce_sales_using_pandas/ecommerce_transactions.csv\")",
   "id": "814e63a11c6fef1",
   "outputs": [],
   "execution_count": 15
  },
  {
   "metadata": {
    "ExecuteTime": {
     "end_time": "2025-03-20T04:57:58.470140Z",
     "start_time": "2025-03-20T04:57:58.460078Z"
    }
   },
   "cell_type": "code",
   "source": "df.head()",
   "id": "76e5c9e17fb080a0",
   "outputs": [
    {
     "data": {
      "text/plain": [
       "   Transaction_ID        User_Name  Age  Country Product_Category  \\\n",
       "0               1         Ava Hall   63   Mexico         Clothing   \n",
       "1               2      Sophia Hall   59    India           Beauty   \n",
       "2               3  Elijah Thompson   26   France            Books   \n",
       "3               4     Elijah White   43   Mexico           Sports   \n",
       "4               5       Ava Harris   48  Germany           Beauty   \n",
       "\n",
       "   Purchase_Amount Payment_Method Transaction_Date  \n",
       "0           780.69     Debit Card       2023-04-14  \n",
       "1           738.56         PayPal       2023-07-30  \n",
       "2           178.34    Credit Card       2023-09-17  \n",
       "3           401.09            UPI       2023-06-21  \n",
       "4           594.83    Net Banking       2024-10-29  "
      ],
      "text/html": [
       "<div>\n",
       "<style scoped>\n",
       "    .dataframe tbody tr th:only-of-type {\n",
       "        vertical-align: middle;\n",
       "    }\n",
       "\n",
       "    .dataframe tbody tr th {\n",
       "        vertical-align: top;\n",
       "    }\n",
       "\n",
       "    .dataframe thead th {\n",
       "        text-align: right;\n",
       "    }\n",
       "</style>\n",
       "<table border=\"1\" class=\"dataframe\">\n",
       "  <thead>\n",
       "    <tr style=\"text-align: right;\">\n",
       "      <th></th>\n",
       "      <th>Transaction_ID</th>\n",
       "      <th>User_Name</th>\n",
       "      <th>Age</th>\n",
       "      <th>Country</th>\n",
       "      <th>Product_Category</th>\n",
       "      <th>Purchase_Amount</th>\n",
       "      <th>Payment_Method</th>\n",
       "      <th>Transaction_Date</th>\n",
       "    </tr>\n",
       "  </thead>\n",
       "  <tbody>\n",
       "    <tr>\n",
       "      <th>0</th>\n",
       "      <td>1</td>\n",
       "      <td>Ava Hall</td>\n",
       "      <td>63</td>\n",
       "      <td>Mexico</td>\n",
       "      <td>Clothing</td>\n",
       "      <td>780.69</td>\n",
       "      <td>Debit Card</td>\n",
       "      <td>2023-04-14</td>\n",
       "    </tr>\n",
       "    <tr>\n",
       "      <th>1</th>\n",
       "      <td>2</td>\n",
       "      <td>Sophia Hall</td>\n",
       "      <td>59</td>\n",
       "      <td>India</td>\n",
       "      <td>Beauty</td>\n",
       "      <td>738.56</td>\n",
       "      <td>PayPal</td>\n",
       "      <td>2023-07-30</td>\n",
       "    </tr>\n",
       "    <tr>\n",
       "      <th>2</th>\n",
       "      <td>3</td>\n",
       "      <td>Elijah Thompson</td>\n",
       "      <td>26</td>\n",
       "      <td>France</td>\n",
       "      <td>Books</td>\n",
       "      <td>178.34</td>\n",
       "      <td>Credit Card</td>\n",
       "      <td>2023-09-17</td>\n",
       "    </tr>\n",
       "    <tr>\n",
       "      <th>3</th>\n",
       "      <td>4</td>\n",
       "      <td>Elijah White</td>\n",
       "      <td>43</td>\n",
       "      <td>Mexico</td>\n",
       "      <td>Sports</td>\n",
       "      <td>401.09</td>\n",
       "      <td>UPI</td>\n",
       "      <td>2023-06-21</td>\n",
       "    </tr>\n",
       "    <tr>\n",
       "      <th>4</th>\n",
       "      <td>5</td>\n",
       "      <td>Ava Harris</td>\n",
       "      <td>48</td>\n",
       "      <td>Germany</td>\n",
       "      <td>Beauty</td>\n",
       "      <td>594.83</td>\n",
       "      <td>Net Banking</td>\n",
       "      <td>2024-10-29</td>\n",
       "    </tr>\n",
       "  </tbody>\n",
       "</table>\n",
       "</div>"
      ]
     },
     "execution_count": 16,
     "metadata": {},
     "output_type": "execute_result"
    }
   ],
   "execution_count": 16
  },
  {
   "metadata": {
    "ExecuteTime": {
     "end_time": "2025-03-20T04:58:02.554951Z",
     "start_time": "2025-03-20T04:58:02.544735Z"
    }
   },
   "cell_type": "code",
   "source": [
    "df.info\n",
    "\n"
   ],
   "id": "87085da7ed2480d7",
   "outputs": [
    {
     "data": {
      "text/plain": [
       "<bound method DataFrame.info of        Transaction_ID           User_Name  Age    Country Product_Category  \\\n",
       "0                   1            Ava Hall   63     Mexico         Clothing   \n",
       "1                   2         Sophia Hall   59      India           Beauty   \n",
       "2                   3     Elijah Thompson   26     France            Books   \n",
       "3                   4        Elijah White   43     Mexico           Sports   \n",
       "4                   5          Ava Harris   48    Germany           Beauty   \n",
       "...               ...                 ...  ...        ...              ...   \n",
       "49995           49996  Isabella Rodriguez   53      India      Electronics   \n",
       "49996           49997           Emma Hall   30     France   Home & Kitchen   \n",
       "49997           49998      Isabella Allen   50  Australia           Beauty   \n",
       "49998           49999        Olivia Clark   48  Australia          Grocery   \n",
       "49999           50000       Olivia Harris   70     Canada           Sports   \n",
       "\n",
       "       Purchase_Amount    Payment_Method Transaction_Date  \n",
       "0               780.69        Debit Card       2023-04-14  \n",
       "1               738.56            PayPal       2023-07-30  \n",
       "2               178.34       Credit Card       2023-09-17  \n",
       "3               401.09               UPI       2023-06-21  \n",
       "4               594.83       Net Banking       2024-10-29  \n",
       "...                ...               ...              ...  \n",
       "49995           140.09               UPI       2024-08-07  \n",
       "49996           815.31  Cash on Delivery       2025-02-07  \n",
       "49997           535.77               UPI       2023-08-11  \n",
       "49998           370.99  Cash on Delivery       2025-01-02  \n",
       "49999           577.66       Credit Card       2024-06-03  \n",
       "\n",
       "[50000 rows x 8 columns]>"
      ]
     },
     "execution_count": 17,
     "metadata": {},
     "output_type": "execute_result"
    }
   ],
   "execution_count": 17
  },
  {
   "metadata": {
    "ExecuteTime": {
     "end_time": "2025-03-20T04:58:04.366620Z",
     "start_time": "2025-03-20T04:58:04.359620Z"
    }
   },
   "cell_type": "code",
   "source": "df.dtypes\n",
   "id": "594239fdfdae11e2",
   "outputs": [
    {
     "data": {
      "text/plain": [
       "Transaction_ID        int64\n",
       "User_Name            object\n",
       "Age                   int64\n",
       "Country              object\n",
       "Product_Category     object\n",
       "Purchase_Amount     float64\n",
       "Payment_Method       object\n",
       "Transaction_Date     object\n",
       "dtype: object"
      ]
     },
     "execution_count": 18,
     "metadata": {},
     "output_type": "execute_result"
    }
   ],
   "execution_count": 18
  },
  {
   "metadata": {
    "ExecuteTime": {
     "end_time": "2025-03-20T04:58:06.620462Z",
     "start_time": "2025-03-20T04:58:06.588962Z"
    }
   },
   "cell_type": "code",
   "source": "df.describe()",
   "id": "e1c33e508dfc896e",
   "outputs": [
    {
     "data": {
      "text/plain": [
       "       Transaction_ID           Age  Purchase_Amount\n",
       "count    50000.000000  50000.000000     50000.000000\n",
       "mean     25000.500000     43.968680       503.159793\n",
       "std      14433.901067     15.260578       286.563558\n",
       "min          1.000000     18.000000         5.040000\n",
       "25%      12500.750000     31.000000       255.450000\n",
       "50%      25000.500000     44.000000       503.110000\n",
       "75%      37500.250000     57.000000       751.162500\n",
       "max      50000.000000     70.000000       999.980000"
      ],
      "text/html": [
       "<div>\n",
       "<style scoped>\n",
       "    .dataframe tbody tr th:only-of-type {\n",
       "        vertical-align: middle;\n",
       "    }\n",
       "\n",
       "    .dataframe tbody tr th {\n",
       "        vertical-align: top;\n",
       "    }\n",
       "\n",
       "    .dataframe thead th {\n",
       "        text-align: right;\n",
       "    }\n",
       "</style>\n",
       "<table border=\"1\" class=\"dataframe\">\n",
       "  <thead>\n",
       "    <tr style=\"text-align: right;\">\n",
       "      <th></th>\n",
       "      <th>Transaction_ID</th>\n",
       "      <th>Age</th>\n",
       "      <th>Purchase_Amount</th>\n",
       "    </tr>\n",
       "  </thead>\n",
       "  <tbody>\n",
       "    <tr>\n",
       "      <th>count</th>\n",
       "      <td>50000.000000</td>\n",
       "      <td>50000.000000</td>\n",
       "      <td>50000.000000</td>\n",
       "    </tr>\n",
       "    <tr>\n",
       "      <th>mean</th>\n",
       "      <td>25000.500000</td>\n",
       "      <td>43.968680</td>\n",
       "      <td>503.159793</td>\n",
       "    </tr>\n",
       "    <tr>\n",
       "      <th>std</th>\n",
       "      <td>14433.901067</td>\n",
       "      <td>15.260578</td>\n",
       "      <td>286.563558</td>\n",
       "    </tr>\n",
       "    <tr>\n",
       "      <th>min</th>\n",
       "      <td>1.000000</td>\n",
       "      <td>18.000000</td>\n",
       "      <td>5.040000</td>\n",
       "    </tr>\n",
       "    <tr>\n",
       "      <th>25%</th>\n",
       "      <td>12500.750000</td>\n",
       "      <td>31.000000</td>\n",
       "      <td>255.450000</td>\n",
       "    </tr>\n",
       "    <tr>\n",
       "      <th>50%</th>\n",
       "      <td>25000.500000</td>\n",
       "      <td>44.000000</td>\n",
       "      <td>503.110000</td>\n",
       "    </tr>\n",
       "    <tr>\n",
       "      <th>75%</th>\n",
       "      <td>37500.250000</td>\n",
       "      <td>57.000000</td>\n",
       "      <td>751.162500</td>\n",
       "    </tr>\n",
       "    <tr>\n",
       "      <th>max</th>\n",
       "      <td>50000.000000</td>\n",
       "      <td>70.000000</td>\n",
       "      <td>999.980000</td>\n",
       "    </tr>\n",
       "  </tbody>\n",
       "</table>\n",
       "</div>"
      ]
     },
     "execution_count": 19,
     "metadata": {},
     "output_type": "execute_result"
    }
   ],
   "execution_count": 19
  },
  {
   "metadata": {
    "ExecuteTime": {
     "end_time": "2025-03-20T04:58:08.342867Z",
     "start_time": "2025-03-20T04:58:08.330654Z"
    }
   },
   "cell_type": "code",
   "source": "df.columns",
   "id": "5ba70e4a08d8ef98",
   "outputs": [
    {
     "data": {
      "text/plain": [
       "Index(['Transaction_ID', 'User_Name', 'Age', 'Country', 'Product_Category',\n",
       "       'Purchase_Amount', 'Payment_Method', 'Transaction_Date'],\n",
       "      dtype='object')"
      ]
     },
     "execution_count": 20,
     "metadata": {},
     "output_type": "execute_result"
    }
   ],
   "execution_count": 20
  },
  {
   "metadata": {
    "ExecuteTime": {
     "end_time": "2025-03-20T04:58:10.920127Z",
     "start_time": "2025-03-20T04:58:10.914851Z"
    }
   },
   "cell_type": "code",
   "source": "df.dtypes",
   "id": "b16d9cfaa74bee36",
   "outputs": [
    {
     "data": {
      "text/plain": [
       "Transaction_ID        int64\n",
       "User_Name            object\n",
       "Age                   int64\n",
       "Country              object\n",
       "Product_Category     object\n",
       "Purchase_Amount     float64\n",
       "Payment_Method       object\n",
       "Transaction_Date     object\n",
       "dtype: object"
      ]
     },
     "execution_count": 21,
     "metadata": {},
     "output_type": "execute_result"
    }
   ],
   "execution_count": 21
  },
  {
   "metadata": {
    "ExecuteTime": {
     "end_time": "2025-03-20T04:58:12.938975Z",
     "start_time": "2025-03-20T04:58:12.909405Z"
    }
   },
   "cell_type": "code",
   "source": "df['Transaction_Date'] =pd.to_datetime(df['Transaction_Date'])",
   "id": "a447090f3b7a84e0",
   "outputs": [],
   "execution_count": 22
  },
  {
   "metadata": {
    "ExecuteTime": {
     "end_time": "2025-03-20T04:58:14.284227Z",
     "start_time": "2025-03-20T04:58:14.269219Z"
    }
   },
   "cell_type": "code",
   "source": "df.isnull().sum()",
   "id": "b93ffd4831f8532",
   "outputs": [
    {
     "data": {
      "text/plain": [
       "Transaction_ID      0\n",
       "User_Name           0\n",
       "Age                 0\n",
       "Country             0\n",
       "Product_Category    0\n",
       "Purchase_Amount     0\n",
       "Payment_Method      0\n",
       "Transaction_Date    0\n",
       "dtype: int64"
      ]
     },
     "execution_count": 23,
     "metadata": {},
     "output_type": "execute_result"
    }
   ],
   "execution_count": 23
  },
  {
   "metadata": {},
   "cell_type": "markdown",
   "source": [
    "agg functions\n",
    "\n",
    "df.sum()      # Sum of all numeric columns\n",
    "df.mean()     # Mean (average)\n",
    "df.median()   # Median\n",
    "df.mode()     # Mode (most common value)\n",
    "df.min()      # Minimum value\n",
    "df.max()      # Maximum value\n",
    "df.count()    # Count of non-null values\n",
    "df.std()      # Standard deviation\n",
    "df.var()      # Variance\n",
    "df.prod()     # Product of values\n",
    "df.cumsum()   # Cumulative sum\n",
    "df.cumprod()  # Cumulative product\n"
   ],
   "id": "bb47079c03ac2d2"
  },
  {
   "metadata": {
    "ExecuteTime": {
     "end_time": "2025-03-20T04:58:16.440772Z",
     "start_time": "2025-03-20T04:58:16.434712Z"
    }
   },
   "cell_type": "code",
   "source": [
    "df[\"Transaction_ID\"].count()\n",
    "\n"
   ],
   "id": "a6eaec97ba770374",
   "outputs": [
    {
     "data": {
      "text/plain": [
       "np.int64(50000)"
      ]
     },
     "execution_count": 24,
     "metadata": {},
     "output_type": "execute_result"
    }
   ],
   "execution_count": 24
  },
  {
   "metadata": {
    "ExecuteTime": {
     "end_time": "2025-03-20T04:58:18.799345Z",
     "start_time": "2025-03-20T04:58:18.792385Z"
    }
   },
   "cell_type": "code",
   "source": "df[\"Purchase_Amount\"].mean()",
   "id": "83ef0664880a39ce",
   "outputs": [
    {
     "data": {
      "text/plain": [
       "np.float64(503.15979300000004)"
      ]
     },
     "execution_count": 25,
     "metadata": {},
     "output_type": "execute_result"
    }
   ],
   "execution_count": 25
  },
  {
   "metadata": {
    "ExecuteTime": {
     "end_time": "2025-03-20T04:58:21.680383Z",
     "start_time": "2025-03-20T04:58:21.667383Z"
    }
   },
   "cell_type": "code",
   "source": "df[\"Payment_Method\"].value_counts()\n",
   "id": "96e5bc187bed576",
   "outputs": [
    {
     "data": {
      "text/plain": [
       "Payment_Method\n",
       "UPI                 8477\n",
       "Cash on Delivery    8434\n",
       "Debit Card          8355\n",
       "Credit Card         8310\n",
       "PayPal              8250\n",
       "Net Banking         8174\n",
       "Name: count, dtype: int64"
      ]
     },
     "execution_count": 26,
     "metadata": {},
     "output_type": "execute_result"
    }
   ],
   "execution_count": 26
  },
  {
   "metadata": {
    "ExecuteTime": {
     "end_time": "2025-03-20T04:58:40.277011Z",
     "start_time": "2025-03-20T04:58:40.260572Z"
    }
   },
   "cell_type": "code",
   "source": [
    "df.groupby(\"Country\")[\"Transaction_ID\"].count().reset_index(name=\"Transaction_Count\")\n",
    "\n"
   ],
   "id": "7898dd9eb26129bd",
   "outputs": [
    {
     "data": {
      "text/plain": [
       "     Country  Transaction_Count\n",
       "0  Australia               4985\n",
       "1     Brazil               4948\n",
       "2     Canada               5082\n",
       "3     France               4993\n",
       "4    Germany               5047\n",
       "5      India               4996\n",
       "6      Japan               4960\n",
       "7     Mexico               5059\n",
       "8         UK               4951\n",
       "9        USA               4979"
      ],
      "text/html": [
       "<div>\n",
       "<style scoped>\n",
       "    .dataframe tbody tr th:only-of-type {\n",
       "        vertical-align: middle;\n",
       "    }\n",
       "\n",
       "    .dataframe tbody tr th {\n",
       "        vertical-align: top;\n",
       "    }\n",
       "\n",
       "    .dataframe thead th {\n",
       "        text-align: right;\n",
       "    }\n",
       "</style>\n",
       "<table border=\"1\" class=\"dataframe\">\n",
       "  <thead>\n",
       "    <tr style=\"text-align: right;\">\n",
       "      <th></th>\n",
       "      <th>Country</th>\n",
       "      <th>Transaction_Count</th>\n",
       "    </tr>\n",
       "  </thead>\n",
       "  <tbody>\n",
       "    <tr>\n",
       "      <th>0</th>\n",
       "      <td>Australia</td>\n",
       "      <td>4985</td>\n",
       "    </tr>\n",
       "    <tr>\n",
       "      <th>1</th>\n",
       "      <td>Brazil</td>\n",
       "      <td>4948</td>\n",
       "    </tr>\n",
       "    <tr>\n",
       "      <th>2</th>\n",
       "      <td>Canada</td>\n",
       "      <td>5082</td>\n",
       "    </tr>\n",
       "    <tr>\n",
       "      <th>3</th>\n",
       "      <td>France</td>\n",
       "      <td>4993</td>\n",
       "    </tr>\n",
       "    <tr>\n",
       "      <th>4</th>\n",
       "      <td>Germany</td>\n",
       "      <td>5047</td>\n",
       "    </tr>\n",
       "    <tr>\n",
       "      <th>5</th>\n",
       "      <td>India</td>\n",
       "      <td>4996</td>\n",
       "    </tr>\n",
       "    <tr>\n",
       "      <th>6</th>\n",
       "      <td>Japan</td>\n",
       "      <td>4960</td>\n",
       "    </tr>\n",
       "    <tr>\n",
       "      <th>7</th>\n",
       "      <td>Mexico</td>\n",
       "      <td>5059</td>\n",
       "    </tr>\n",
       "    <tr>\n",
       "      <th>8</th>\n",
       "      <td>UK</td>\n",
       "      <td>4951</td>\n",
       "    </tr>\n",
       "    <tr>\n",
       "      <th>9</th>\n",
       "      <td>USA</td>\n",
       "      <td>4979</td>\n",
       "    </tr>\n",
       "  </tbody>\n",
       "</table>\n",
       "</div>"
      ]
     },
     "execution_count": 27,
     "metadata": {},
     "output_type": "execute_result"
    }
   ],
   "execution_count": 27
  },
  {
   "metadata": {
    "ExecuteTime": {
     "end_time": "2025-03-20T04:58:44.694172Z",
     "start_time": "2025-03-20T04:58:44.685308Z"
    }
   },
   "cell_type": "code",
   "source": "df.groupby(\"Country\")[\"Transaction_ID\"].count()\n",
   "id": "3a222a1e884451c1",
   "outputs": [
    {
     "data": {
      "text/plain": [
       "Country\n",
       "Australia    4985\n",
       "Brazil       4948\n",
       "Canada       5082\n",
       "France       4993\n",
       "Germany      5047\n",
       "India        4996\n",
       "Japan        4960\n",
       "Mexico       5059\n",
       "UK           4951\n",
       "USA          4979\n",
       "Name: Transaction_ID, dtype: int64"
      ]
     },
     "execution_count": 28,
     "metadata": {},
     "output_type": "execute_result"
    }
   ],
   "execution_count": 28
  },
  {
   "metadata": {
    "ExecuteTime": {
     "end_time": "2025-03-20T04:58:47.771875Z",
     "start_time": "2025-03-20T04:58:47.764073Z"
    }
   },
   "cell_type": "code",
   "source": "df[\"Country\"].value_counts()\n",
   "id": "82faaaa8c82d836d",
   "outputs": [
    {
     "data": {
      "text/plain": [
       "Country\n",
       "Canada       5082\n",
       "Mexico       5059\n",
       "Germany      5047\n",
       "India        4996\n",
       "France       4993\n",
       "Australia    4985\n",
       "USA          4979\n",
       "Japan        4960\n",
       "UK           4951\n",
       "Brazil       4948\n",
       "Name: count, dtype: int64"
      ]
     },
     "execution_count": 29,
     "metadata": {},
     "output_type": "execute_result"
    }
   ],
   "execution_count": 29
  },
  {
   "metadata": {
    "ExecuteTime": {
     "end_time": "2025-03-20T04:58:53.100174Z",
     "start_time": "2025-03-20T04:58:53.092707Z"
    }
   },
   "cell_type": "code",
   "source": "df[\"Age\"].mean()",
   "id": "4b9870d405b8e500",
   "outputs": [
    {
     "data": {
      "text/plain": [
       "np.float64(43.96868)"
      ]
     },
     "execution_count": 30,
     "metadata": {},
     "output_type": "execute_result"
    }
   ],
   "execution_count": 30
  },
  {
   "metadata": {
    "ExecuteTime": {
     "end_time": "2025-03-20T04:58:54.562965Z",
     "start_time": "2025-03-20T04:58:54.552963Z"
    }
   },
   "cell_type": "code",
   "source": "df.head(10)",
   "id": "60bd7e7957a0c156",
   "outputs": [
    {
     "data": {
      "text/plain": [
       "   Transaction_ID        User_Name  Age  Country Product_Category  \\\n",
       "0               1         Ava Hall   63   Mexico         Clothing   \n",
       "1               2      Sophia Hall   59    India           Beauty   \n",
       "2               3  Elijah Thompson   26   France            Books   \n",
       "3               4     Elijah White   43   Mexico           Sports   \n",
       "4               5       Ava Harris   48  Germany           Beauty   \n",
       "5               6    Elijah Harris   51    India             Toys   \n",
       "6               7     Oliver Clark   27  Germany   Home & Kitchen   \n",
       "7               8     Olivia Allen   46   Canada   Home & Kitchen   \n",
       "8               9      Liam Harris   54   France           Beauty   \n",
       "9              10       Liam Allen   60   Canada           Beauty   \n",
       "\n",
       "   Purchase_Amount    Payment_Method Transaction_Date  \n",
       "0           780.69        Debit Card       2023-04-14  \n",
       "1           738.56            PayPal       2023-07-30  \n",
       "2           178.34       Credit Card       2023-09-17  \n",
       "3           401.09               UPI       2023-06-21  \n",
       "4           594.83       Net Banking       2024-10-29  \n",
       "5           966.50  Cash on Delivery       2025-01-18  \n",
       "6           341.73       Credit Card       2024-03-13  \n",
       "7            11.33        Debit Card       2024-01-04  \n",
       "8           279.43  Cash on Delivery       2023-12-06  \n",
       "9           223.90  Cash on Delivery       2023-08-07  "
      ],
      "text/html": [
       "<div>\n",
       "<style scoped>\n",
       "    .dataframe tbody tr th:only-of-type {\n",
       "        vertical-align: middle;\n",
       "    }\n",
       "\n",
       "    .dataframe tbody tr th {\n",
       "        vertical-align: top;\n",
       "    }\n",
       "\n",
       "    .dataframe thead th {\n",
       "        text-align: right;\n",
       "    }\n",
       "</style>\n",
       "<table border=\"1\" class=\"dataframe\">\n",
       "  <thead>\n",
       "    <tr style=\"text-align: right;\">\n",
       "      <th></th>\n",
       "      <th>Transaction_ID</th>\n",
       "      <th>User_Name</th>\n",
       "      <th>Age</th>\n",
       "      <th>Country</th>\n",
       "      <th>Product_Category</th>\n",
       "      <th>Purchase_Amount</th>\n",
       "      <th>Payment_Method</th>\n",
       "      <th>Transaction_Date</th>\n",
       "    </tr>\n",
       "  </thead>\n",
       "  <tbody>\n",
       "    <tr>\n",
       "      <th>0</th>\n",
       "      <td>1</td>\n",
       "      <td>Ava Hall</td>\n",
       "      <td>63</td>\n",
       "      <td>Mexico</td>\n",
       "      <td>Clothing</td>\n",
       "      <td>780.69</td>\n",
       "      <td>Debit Card</td>\n",
       "      <td>2023-04-14</td>\n",
       "    </tr>\n",
       "    <tr>\n",
       "      <th>1</th>\n",
       "      <td>2</td>\n",
       "      <td>Sophia Hall</td>\n",
       "      <td>59</td>\n",
       "      <td>India</td>\n",
       "      <td>Beauty</td>\n",
       "      <td>738.56</td>\n",
       "      <td>PayPal</td>\n",
       "      <td>2023-07-30</td>\n",
       "    </tr>\n",
       "    <tr>\n",
       "      <th>2</th>\n",
       "      <td>3</td>\n",
       "      <td>Elijah Thompson</td>\n",
       "      <td>26</td>\n",
       "      <td>France</td>\n",
       "      <td>Books</td>\n",
       "      <td>178.34</td>\n",
       "      <td>Credit Card</td>\n",
       "      <td>2023-09-17</td>\n",
       "    </tr>\n",
       "    <tr>\n",
       "      <th>3</th>\n",
       "      <td>4</td>\n",
       "      <td>Elijah White</td>\n",
       "      <td>43</td>\n",
       "      <td>Mexico</td>\n",
       "      <td>Sports</td>\n",
       "      <td>401.09</td>\n",
       "      <td>UPI</td>\n",
       "      <td>2023-06-21</td>\n",
       "    </tr>\n",
       "    <tr>\n",
       "      <th>4</th>\n",
       "      <td>5</td>\n",
       "      <td>Ava Harris</td>\n",
       "      <td>48</td>\n",
       "      <td>Germany</td>\n",
       "      <td>Beauty</td>\n",
       "      <td>594.83</td>\n",
       "      <td>Net Banking</td>\n",
       "      <td>2024-10-29</td>\n",
       "    </tr>\n",
       "    <tr>\n",
       "      <th>5</th>\n",
       "      <td>6</td>\n",
       "      <td>Elijah Harris</td>\n",
       "      <td>51</td>\n",
       "      <td>India</td>\n",
       "      <td>Toys</td>\n",
       "      <td>966.50</td>\n",
       "      <td>Cash on Delivery</td>\n",
       "      <td>2025-01-18</td>\n",
       "    </tr>\n",
       "    <tr>\n",
       "      <th>6</th>\n",
       "      <td>7</td>\n",
       "      <td>Oliver Clark</td>\n",
       "      <td>27</td>\n",
       "      <td>Germany</td>\n",
       "      <td>Home &amp; Kitchen</td>\n",
       "      <td>341.73</td>\n",
       "      <td>Credit Card</td>\n",
       "      <td>2024-03-13</td>\n",
       "    </tr>\n",
       "    <tr>\n",
       "      <th>7</th>\n",
       "      <td>8</td>\n",
       "      <td>Olivia Allen</td>\n",
       "      <td>46</td>\n",
       "      <td>Canada</td>\n",
       "      <td>Home &amp; Kitchen</td>\n",
       "      <td>11.33</td>\n",
       "      <td>Debit Card</td>\n",
       "      <td>2024-01-04</td>\n",
       "    </tr>\n",
       "    <tr>\n",
       "      <th>8</th>\n",
       "      <td>9</td>\n",
       "      <td>Liam Harris</td>\n",
       "      <td>54</td>\n",
       "      <td>France</td>\n",
       "      <td>Beauty</td>\n",
       "      <td>279.43</td>\n",
       "      <td>Cash on Delivery</td>\n",
       "      <td>2023-12-06</td>\n",
       "    </tr>\n",
       "    <tr>\n",
       "      <th>9</th>\n",
       "      <td>10</td>\n",
       "      <td>Liam Allen</td>\n",
       "      <td>60</td>\n",
       "      <td>Canada</td>\n",
       "      <td>Beauty</td>\n",
       "      <td>223.90</td>\n",
       "      <td>Cash on Delivery</td>\n",
       "      <td>2023-08-07</td>\n",
       "    </tr>\n",
       "  </tbody>\n",
       "</table>\n",
       "</div>"
      ]
     },
     "execution_count": 31,
     "metadata": {},
     "output_type": "execute_result"
    }
   ],
   "execution_count": 31
  },
  {
   "metadata": {
    "ExecuteTime": {
     "end_time": "2025-03-20T04:58:59.007347Z",
     "start_time": "2025-03-20T04:58:58.986123Z"
    }
   },
   "cell_type": "code",
   "source": [
    "def age_category(Age):\n",
    "    if Age < 13:\n",
    "        return 'Child'\n",
    "    elif Age < 18:\n",
    "        return 'Teen'\n",
    "    elif Age < 36:\n",
    "        return 'Young Adult'\n",
    "    elif Age < 60:\n",
    "        return 'Adult'\n",
    "    else:\n",
    "        return 'Senior'\n",
    "\n",
    "# Apply function to create Age_Group column\n",
    "df['Age_Group'] = df['Age'].apply(age_category)\n",
    "\n",
    "# Display DataFrame\n",
    "print(df)"
   ],
   "id": "bc1a49c11d53ac19",
   "outputs": [
    {
     "name": "stdout",
     "output_type": "stream",
     "text": [
      "       Transaction_ID           User_Name  Age    Country Product_Category  \\\n",
      "0                   1            Ava Hall   63     Mexico         Clothing   \n",
      "1                   2         Sophia Hall   59      India           Beauty   \n",
      "2                   3     Elijah Thompson   26     France            Books   \n",
      "3                   4        Elijah White   43     Mexico           Sports   \n",
      "4                   5          Ava Harris   48    Germany           Beauty   \n",
      "...               ...                 ...  ...        ...              ...   \n",
      "49995           49996  Isabella Rodriguez   53      India      Electronics   \n",
      "49996           49997           Emma Hall   30     France   Home & Kitchen   \n",
      "49997           49998      Isabella Allen   50  Australia           Beauty   \n",
      "49998           49999        Olivia Clark   48  Australia          Grocery   \n",
      "49999           50000       Olivia Harris   70     Canada           Sports   \n",
      "\n",
      "       Purchase_Amount    Payment_Method Transaction_Date    Age_Group  \n",
      "0               780.69        Debit Card       2023-04-14       Senior  \n",
      "1               738.56            PayPal       2023-07-30        Adult  \n",
      "2               178.34       Credit Card       2023-09-17  Young Adult  \n",
      "3               401.09               UPI       2023-06-21        Adult  \n",
      "4               594.83       Net Banking       2024-10-29        Adult  \n",
      "...                ...               ...              ...          ...  \n",
      "49995           140.09               UPI       2024-08-07        Adult  \n",
      "49996           815.31  Cash on Delivery       2025-02-07  Young Adult  \n",
      "49997           535.77               UPI       2023-08-11        Adult  \n",
      "49998           370.99  Cash on Delivery       2025-01-02        Adult  \n",
      "49999           577.66       Credit Card       2024-06-03       Senior  \n",
      "\n",
      "[50000 rows x 9 columns]\n"
     ]
    }
   ],
   "execution_count": 32
  },
  {
   "metadata": {
    "ExecuteTime": {
     "end_time": "2025-03-20T04:59:06.068858Z",
     "start_time": "2025-03-20T04:59:06.060330Z"
    }
   },
   "cell_type": "code",
   "source": "df.columns",
   "id": "3f813fb8e2542828",
   "outputs": [
    {
     "data": {
      "text/plain": [
       "Index(['Transaction_ID', 'User_Name', 'Age', 'Country', 'Product_Category',\n",
       "       'Purchase_Amount', 'Payment_Method', 'Transaction_Date', 'Age_Group'],\n",
       "      dtype='object')"
      ]
     },
     "execution_count": 33,
     "metadata": {},
     "output_type": "execute_result"
    }
   ],
   "execution_count": 33
  },
  {
   "metadata": {
    "ExecuteTime": {
     "end_time": "2025-03-20T04:59:10.231145Z",
     "start_time": "2025-03-20T04:59:10.212309Z"
    }
   },
   "cell_type": "code",
   "source": "df.set_index(\"Purchase_Amount\")",
   "id": "1bdc7bbb6d939642",
   "outputs": [
    {
     "data": {
      "text/plain": [
       "                 Transaction_ID           User_Name  Age    Country  \\\n",
       "Purchase_Amount                                                       \n",
       "780.69                        1            Ava Hall   63     Mexico   \n",
       "738.56                        2         Sophia Hall   59      India   \n",
       "178.34                        3     Elijah Thompson   26     France   \n",
       "401.09                        4        Elijah White   43     Mexico   \n",
       "594.83                        5          Ava Harris   48    Germany   \n",
       "...                         ...                 ...  ...        ...   \n",
       "140.09                    49996  Isabella Rodriguez   53      India   \n",
       "815.31                    49997           Emma Hall   30     France   \n",
       "535.77                    49998      Isabella Allen   50  Australia   \n",
       "370.99                    49999        Olivia Clark   48  Australia   \n",
       "577.66                    50000       Olivia Harris   70     Canada   \n",
       "\n",
       "                Product_Category    Payment_Method Transaction_Date  \\\n",
       "Purchase_Amount                                                       \n",
       "780.69                  Clothing        Debit Card       2023-04-14   \n",
       "738.56                    Beauty            PayPal       2023-07-30   \n",
       "178.34                     Books       Credit Card       2023-09-17   \n",
       "401.09                    Sports               UPI       2023-06-21   \n",
       "594.83                    Beauty       Net Banking       2024-10-29   \n",
       "...                          ...               ...              ...   \n",
       "140.09               Electronics               UPI       2024-08-07   \n",
       "815.31            Home & Kitchen  Cash on Delivery       2025-02-07   \n",
       "535.77                    Beauty               UPI       2023-08-11   \n",
       "370.99                   Grocery  Cash on Delivery       2025-01-02   \n",
       "577.66                    Sports       Credit Card       2024-06-03   \n",
       "\n",
       "                   Age_Group  \n",
       "Purchase_Amount               \n",
       "780.69                Senior  \n",
       "738.56                 Adult  \n",
       "178.34           Young Adult  \n",
       "401.09                 Adult  \n",
       "594.83                 Adult  \n",
       "...                      ...  \n",
       "140.09                 Adult  \n",
       "815.31           Young Adult  \n",
       "535.77                 Adult  \n",
       "370.99                 Adult  \n",
       "577.66                Senior  \n",
       "\n",
       "[50000 rows x 8 columns]"
      ],
      "text/html": [
       "<div>\n",
       "<style scoped>\n",
       "    .dataframe tbody tr th:only-of-type {\n",
       "        vertical-align: middle;\n",
       "    }\n",
       "\n",
       "    .dataframe tbody tr th {\n",
       "        vertical-align: top;\n",
       "    }\n",
       "\n",
       "    .dataframe thead th {\n",
       "        text-align: right;\n",
       "    }\n",
       "</style>\n",
       "<table border=\"1\" class=\"dataframe\">\n",
       "  <thead>\n",
       "    <tr style=\"text-align: right;\">\n",
       "      <th></th>\n",
       "      <th>Transaction_ID</th>\n",
       "      <th>User_Name</th>\n",
       "      <th>Age</th>\n",
       "      <th>Country</th>\n",
       "      <th>Product_Category</th>\n",
       "      <th>Payment_Method</th>\n",
       "      <th>Transaction_Date</th>\n",
       "      <th>Age_Group</th>\n",
       "    </tr>\n",
       "    <tr>\n",
       "      <th>Purchase_Amount</th>\n",
       "      <th></th>\n",
       "      <th></th>\n",
       "      <th></th>\n",
       "      <th></th>\n",
       "      <th></th>\n",
       "      <th></th>\n",
       "      <th></th>\n",
       "      <th></th>\n",
       "    </tr>\n",
       "  </thead>\n",
       "  <tbody>\n",
       "    <tr>\n",
       "      <th>780.69</th>\n",
       "      <td>1</td>\n",
       "      <td>Ava Hall</td>\n",
       "      <td>63</td>\n",
       "      <td>Mexico</td>\n",
       "      <td>Clothing</td>\n",
       "      <td>Debit Card</td>\n",
       "      <td>2023-04-14</td>\n",
       "      <td>Senior</td>\n",
       "    </tr>\n",
       "    <tr>\n",
       "      <th>738.56</th>\n",
       "      <td>2</td>\n",
       "      <td>Sophia Hall</td>\n",
       "      <td>59</td>\n",
       "      <td>India</td>\n",
       "      <td>Beauty</td>\n",
       "      <td>PayPal</td>\n",
       "      <td>2023-07-30</td>\n",
       "      <td>Adult</td>\n",
       "    </tr>\n",
       "    <tr>\n",
       "      <th>178.34</th>\n",
       "      <td>3</td>\n",
       "      <td>Elijah Thompson</td>\n",
       "      <td>26</td>\n",
       "      <td>France</td>\n",
       "      <td>Books</td>\n",
       "      <td>Credit Card</td>\n",
       "      <td>2023-09-17</td>\n",
       "      <td>Young Adult</td>\n",
       "    </tr>\n",
       "    <tr>\n",
       "      <th>401.09</th>\n",
       "      <td>4</td>\n",
       "      <td>Elijah White</td>\n",
       "      <td>43</td>\n",
       "      <td>Mexico</td>\n",
       "      <td>Sports</td>\n",
       "      <td>UPI</td>\n",
       "      <td>2023-06-21</td>\n",
       "      <td>Adult</td>\n",
       "    </tr>\n",
       "    <tr>\n",
       "      <th>594.83</th>\n",
       "      <td>5</td>\n",
       "      <td>Ava Harris</td>\n",
       "      <td>48</td>\n",
       "      <td>Germany</td>\n",
       "      <td>Beauty</td>\n",
       "      <td>Net Banking</td>\n",
       "      <td>2024-10-29</td>\n",
       "      <td>Adult</td>\n",
       "    </tr>\n",
       "    <tr>\n",
       "      <th>...</th>\n",
       "      <td>...</td>\n",
       "      <td>...</td>\n",
       "      <td>...</td>\n",
       "      <td>...</td>\n",
       "      <td>...</td>\n",
       "      <td>...</td>\n",
       "      <td>...</td>\n",
       "      <td>...</td>\n",
       "    </tr>\n",
       "    <tr>\n",
       "      <th>140.09</th>\n",
       "      <td>49996</td>\n",
       "      <td>Isabella Rodriguez</td>\n",
       "      <td>53</td>\n",
       "      <td>India</td>\n",
       "      <td>Electronics</td>\n",
       "      <td>UPI</td>\n",
       "      <td>2024-08-07</td>\n",
       "      <td>Adult</td>\n",
       "    </tr>\n",
       "    <tr>\n",
       "      <th>815.31</th>\n",
       "      <td>49997</td>\n",
       "      <td>Emma Hall</td>\n",
       "      <td>30</td>\n",
       "      <td>France</td>\n",
       "      <td>Home &amp; Kitchen</td>\n",
       "      <td>Cash on Delivery</td>\n",
       "      <td>2025-02-07</td>\n",
       "      <td>Young Adult</td>\n",
       "    </tr>\n",
       "    <tr>\n",
       "      <th>535.77</th>\n",
       "      <td>49998</td>\n",
       "      <td>Isabella Allen</td>\n",
       "      <td>50</td>\n",
       "      <td>Australia</td>\n",
       "      <td>Beauty</td>\n",
       "      <td>UPI</td>\n",
       "      <td>2023-08-11</td>\n",
       "      <td>Adult</td>\n",
       "    </tr>\n",
       "    <tr>\n",
       "      <th>370.99</th>\n",
       "      <td>49999</td>\n",
       "      <td>Olivia Clark</td>\n",
       "      <td>48</td>\n",
       "      <td>Australia</td>\n",
       "      <td>Grocery</td>\n",
       "      <td>Cash on Delivery</td>\n",
       "      <td>2025-01-02</td>\n",
       "      <td>Adult</td>\n",
       "    </tr>\n",
       "    <tr>\n",
       "      <th>577.66</th>\n",
       "      <td>50000</td>\n",
       "      <td>Olivia Harris</td>\n",
       "      <td>70</td>\n",
       "      <td>Canada</td>\n",
       "      <td>Sports</td>\n",
       "      <td>Credit Card</td>\n",
       "      <td>2024-06-03</td>\n",
       "      <td>Senior</td>\n",
       "    </tr>\n",
       "  </tbody>\n",
       "</table>\n",
       "<p>50000 rows × 8 columns</p>\n",
       "</div>"
      ]
     },
     "execution_count": 34,
     "metadata": {},
     "output_type": "execute_result"
    }
   ],
   "execution_count": 34
  },
  {
   "metadata": {
    "ExecuteTime": {
     "end_time": "2025-03-20T04:59:13.052550Z",
     "start_time": "2025-03-20T04:59:13.044381Z"
    }
   },
   "cell_type": "code",
   "source": "df[\"Age_Group\"].value_counts()",
   "id": "7bdbd7ee83f6a7fc",
   "outputs": [
    {
     "data": {
      "text/plain": [
       "Age_Group\n",
       "Adult          22695\n",
       "Young Adult    16956\n",
       "Senior         10349\n",
       "Name: count, dtype: int64"
      ]
     },
     "execution_count": 35,
     "metadata": {},
     "output_type": "execute_result"
    }
   ],
   "execution_count": 35
  },
  {
   "metadata": {
    "ExecuteTime": {
     "end_time": "2025-03-20T04:59:16.750506Z",
     "start_time": "2025-03-20T04:59:16.745505Z"
    }
   },
   "cell_type": "code",
   "source": "print(df.index)",
   "id": "bc902187faa285ef",
   "outputs": [
    {
     "name": "stdout",
     "output_type": "stream",
     "text": [
      "RangeIndex(start=0, stop=50000, step=1)\n"
     ]
    }
   ],
   "execution_count": 36
  },
  {
   "metadata": {
    "ExecuteTime": {
     "end_time": "2025-03-20T04:59:18.543575Z",
     "start_time": "2025-03-20T04:59:18.527048Z"
    }
   },
   "cell_type": "code",
   "source": "df.groupby(\"Age_Group\")[\"Purchase_Amount\"].sum().sort_values(ascending=False)\n",
   "id": "35f7c959bd10c1ab",
   "outputs": [
    {
     "data": {
      "text/plain": [
       "Age_Group\n",
       "Adult          11424012.31\n",
       "Young Adult     8541038.11\n",
       "Senior          5192939.23\n",
       "Name: Purchase_Amount, dtype: float64"
      ]
     },
     "execution_count": 37,
     "metadata": {},
     "output_type": "execute_result"
    }
   ],
   "execution_count": 37
  },
  {
   "metadata": {
    "ExecuteTime": {
     "end_time": "2025-03-20T04:59:20.209927Z",
     "start_time": "2025-03-20T04:59:20.198927Z"
    }
   },
   "cell_type": "code",
   "source": "df\n",
   "id": "64b134b2087b1c56",
   "outputs": [
    {
     "data": {
      "text/plain": [
       "       Transaction_ID           User_Name  Age    Country Product_Category  \\\n",
       "0                   1            Ava Hall   63     Mexico         Clothing   \n",
       "1                   2         Sophia Hall   59      India           Beauty   \n",
       "2                   3     Elijah Thompson   26     France            Books   \n",
       "3                   4        Elijah White   43     Mexico           Sports   \n",
       "4                   5          Ava Harris   48    Germany           Beauty   \n",
       "...               ...                 ...  ...        ...              ...   \n",
       "49995           49996  Isabella Rodriguez   53      India      Electronics   \n",
       "49996           49997           Emma Hall   30     France   Home & Kitchen   \n",
       "49997           49998      Isabella Allen   50  Australia           Beauty   \n",
       "49998           49999        Olivia Clark   48  Australia          Grocery   \n",
       "49999           50000       Olivia Harris   70     Canada           Sports   \n",
       "\n",
       "       Purchase_Amount    Payment_Method Transaction_Date    Age_Group  \n",
       "0               780.69        Debit Card       2023-04-14       Senior  \n",
       "1               738.56            PayPal       2023-07-30        Adult  \n",
       "2               178.34       Credit Card       2023-09-17  Young Adult  \n",
       "3               401.09               UPI       2023-06-21        Adult  \n",
       "4               594.83       Net Banking       2024-10-29        Adult  \n",
       "...                ...               ...              ...          ...  \n",
       "49995           140.09               UPI       2024-08-07        Adult  \n",
       "49996           815.31  Cash on Delivery       2025-02-07  Young Adult  \n",
       "49997           535.77               UPI       2023-08-11        Adult  \n",
       "49998           370.99  Cash on Delivery       2025-01-02        Adult  \n",
       "49999           577.66       Credit Card       2024-06-03       Senior  \n",
       "\n",
       "[50000 rows x 9 columns]"
      ],
      "text/html": [
       "<div>\n",
       "<style scoped>\n",
       "    .dataframe tbody tr th:only-of-type {\n",
       "        vertical-align: middle;\n",
       "    }\n",
       "\n",
       "    .dataframe tbody tr th {\n",
       "        vertical-align: top;\n",
       "    }\n",
       "\n",
       "    .dataframe thead th {\n",
       "        text-align: right;\n",
       "    }\n",
       "</style>\n",
       "<table border=\"1\" class=\"dataframe\">\n",
       "  <thead>\n",
       "    <tr style=\"text-align: right;\">\n",
       "      <th></th>\n",
       "      <th>Transaction_ID</th>\n",
       "      <th>User_Name</th>\n",
       "      <th>Age</th>\n",
       "      <th>Country</th>\n",
       "      <th>Product_Category</th>\n",
       "      <th>Purchase_Amount</th>\n",
       "      <th>Payment_Method</th>\n",
       "      <th>Transaction_Date</th>\n",
       "      <th>Age_Group</th>\n",
       "    </tr>\n",
       "  </thead>\n",
       "  <tbody>\n",
       "    <tr>\n",
       "      <th>0</th>\n",
       "      <td>1</td>\n",
       "      <td>Ava Hall</td>\n",
       "      <td>63</td>\n",
       "      <td>Mexico</td>\n",
       "      <td>Clothing</td>\n",
       "      <td>780.69</td>\n",
       "      <td>Debit Card</td>\n",
       "      <td>2023-04-14</td>\n",
       "      <td>Senior</td>\n",
       "    </tr>\n",
       "    <tr>\n",
       "      <th>1</th>\n",
       "      <td>2</td>\n",
       "      <td>Sophia Hall</td>\n",
       "      <td>59</td>\n",
       "      <td>India</td>\n",
       "      <td>Beauty</td>\n",
       "      <td>738.56</td>\n",
       "      <td>PayPal</td>\n",
       "      <td>2023-07-30</td>\n",
       "      <td>Adult</td>\n",
       "    </tr>\n",
       "    <tr>\n",
       "      <th>2</th>\n",
       "      <td>3</td>\n",
       "      <td>Elijah Thompson</td>\n",
       "      <td>26</td>\n",
       "      <td>France</td>\n",
       "      <td>Books</td>\n",
       "      <td>178.34</td>\n",
       "      <td>Credit Card</td>\n",
       "      <td>2023-09-17</td>\n",
       "      <td>Young Adult</td>\n",
       "    </tr>\n",
       "    <tr>\n",
       "      <th>3</th>\n",
       "      <td>4</td>\n",
       "      <td>Elijah White</td>\n",
       "      <td>43</td>\n",
       "      <td>Mexico</td>\n",
       "      <td>Sports</td>\n",
       "      <td>401.09</td>\n",
       "      <td>UPI</td>\n",
       "      <td>2023-06-21</td>\n",
       "      <td>Adult</td>\n",
       "    </tr>\n",
       "    <tr>\n",
       "      <th>4</th>\n",
       "      <td>5</td>\n",
       "      <td>Ava Harris</td>\n",
       "      <td>48</td>\n",
       "      <td>Germany</td>\n",
       "      <td>Beauty</td>\n",
       "      <td>594.83</td>\n",
       "      <td>Net Banking</td>\n",
       "      <td>2024-10-29</td>\n",
       "      <td>Adult</td>\n",
       "    </tr>\n",
       "    <tr>\n",
       "      <th>...</th>\n",
       "      <td>...</td>\n",
       "      <td>...</td>\n",
       "      <td>...</td>\n",
       "      <td>...</td>\n",
       "      <td>...</td>\n",
       "      <td>...</td>\n",
       "      <td>...</td>\n",
       "      <td>...</td>\n",
       "      <td>...</td>\n",
       "    </tr>\n",
       "    <tr>\n",
       "      <th>49995</th>\n",
       "      <td>49996</td>\n",
       "      <td>Isabella Rodriguez</td>\n",
       "      <td>53</td>\n",
       "      <td>India</td>\n",
       "      <td>Electronics</td>\n",
       "      <td>140.09</td>\n",
       "      <td>UPI</td>\n",
       "      <td>2024-08-07</td>\n",
       "      <td>Adult</td>\n",
       "    </tr>\n",
       "    <tr>\n",
       "      <th>49996</th>\n",
       "      <td>49997</td>\n",
       "      <td>Emma Hall</td>\n",
       "      <td>30</td>\n",
       "      <td>France</td>\n",
       "      <td>Home &amp; Kitchen</td>\n",
       "      <td>815.31</td>\n",
       "      <td>Cash on Delivery</td>\n",
       "      <td>2025-02-07</td>\n",
       "      <td>Young Adult</td>\n",
       "    </tr>\n",
       "    <tr>\n",
       "      <th>49997</th>\n",
       "      <td>49998</td>\n",
       "      <td>Isabella Allen</td>\n",
       "      <td>50</td>\n",
       "      <td>Australia</td>\n",
       "      <td>Beauty</td>\n",
       "      <td>535.77</td>\n",
       "      <td>UPI</td>\n",
       "      <td>2023-08-11</td>\n",
       "      <td>Adult</td>\n",
       "    </tr>\n",
       "    <tr>\n",
       "      <th>49998</th>\n",
       "      <td>49999</td>\n",
       "      <td>Olivia Clark</td>\n",
       "      <td>48</td>\n",
       "      <td>Australia</td>\n",
       "      <td>Grocery</td>\n",
       "      <td>370.99</td>\n",
       "      <td>Cash on Delivery</td>\n",
       "      <td>2025-01-02</td>\n",
       "      <td>Adult</td>\n",
       "    </tr>\n",
       "    <tr>\n",
       "      <th>49999</th>\n",
       "      <td>50000</td>\n",
       "      <td>Olivia Harris</td>\n",
       "      <td>70</td>\n",
       "      <td>Canada</td>\n",
       "      <td>Sports</td>\n",
       "      <td>577.66</td>\n",
       "      <td>Credit Card</td>\n",
       "      <td>2024-06-03</td>\n",
       "      <td>Senior</td>\n",
       "    </tr>\n",
       "  </tbody>\n",
       "</table>\n",
       "<p>50000 rows × 9 columns</p>\n",
       "</div>"
      ]
     },
     "execution_count": 38,
     "metadata": {},
     "output_type": "execute_result"
    }
   ],
   "execution_count": 38
  },
  {
   "metadata": {
    "ExecuteTime": {
     "end_time": "2025-03-20T05:04:27.757106Z",
     "start_time": "2025-03-20T05:04:27.749689Z"
    }
   },
   "cell_type": "code",
   "source": "df[\"User_Name\"].nunique()",
   "id": "58ca9ba61cc6eb3e",
   "outputs": [
    {
     "data": {
      "text/plain": [
       "100"
      ]
     },
     "execution_count": 43,
     "metadata": {},
     "output_type": "execute_result"
    }
   ],
   "execution_count": 43
  },
  {
   "metadata": {
    "ExecuteTime": {
     "end_time": "2025-03-20T05:13:09.086967Z",
     "start_time": "2025-03-20T05:13:09.064952Z"
    }
   },
   "cell_type": "code",
   "source": "-df.groupby(\"Age_Group\")[\"Product_Category\"].value_counts().groupby(level=0).head(1)",
   "id": "e8ed09618b932212",
   "outputs": [
    {
     "data": {
      "text/plain": [
       "Age_Group    Product_Category\n",
       "Adult        Clothing           -2934\n",
       "Senior       Electronics        -1351\n",
       "Young Adult  Toys               -2173\n",
       "Name: count, dtype: int64"
      ]
     },
     "execution_count": 56,
     "metadata": {},
     "output_type": "execute_result"
    }
   ],
   "execution_count": 56
  },
  {
   "metadata": {
    "ExecuteTime": {
     "end_time": "2025-03-20T05:14:46.830702Z",
     "start_time": "2025-03-20T05:14:46.810689Z"
    }
   },
   "cell_type": "code",
   "source": "df.groupby(\"Age_Group\")[\"Product_Category\"].value_counts().reset_index(name=\"Count\").groupby(\"Age_Group\").first()",
   "id": "ad8d2a776e095d46",
   "outputs": [
    {
     "data": {
      "text/plain": [
       "            Product_Category  Count\n",
       "Age_Group                          \n",
       "Adult               Clothing   2934\n",
       "Senior           Electronics   1351\n",
       "Young Adult             Toys   2173"
      ],
      "text/html": [
       "<div>\n",
       "<style scoped>\n",
       "    .dataframe tbody tr th:only-of-type {\n",
       "        vertical-align: middle;\n",
       "    }\n",
       "\n",
       "    .dataframe tbody tr th {\n",
       "        vertical-align: top;\n",
       "    }\n",
       "\n",
       "    .dataframe thead th {\n",
       "        text-align: right;\n",
       "    }\n",
       "</style>\n",
       "<table border=\"1\" class=\"dataframe\">\n",
       "  <thead>\n",
       "    <tr style=\"text-align: right;\">\n",
       "      <th></th>\n",
       "      <th>Product_Category</th>\n",
       "      <th>Count</th>\n",
       "    </tr>\n",
       "    <tr>\n",
       "      <th>Age_Group</th>\n",
       "      <th></th>\n",
       "      <th></th>\n",
       "    </tr>\n",
       "  </thead>\n",
       "  <tbody>\n",
       "    <tr>\n",
       "      <th>Adult</th>\n",
       "      <td>Clothing</td>\n",
       "      <td>2934</td>\n",
       "    </tr>\n",
       "    <tr>\n",
       "      <th>Senior</th>\n",
       "      <td>Electronics</td>\n",
       "      <td>1351</td>\n",
       "    </tr>\n",
       "    <tr>\n",
       "      <th>Young Adult</th>\n",
       "      <td>Toys</td>\n",
       "      <td>2173</td>\n",
       "    </tr>\n",
       "  </tbody>\n",
       "</table>\n",
       "</div>"
      ]
     },
     "execution_count": 57,
     "metadata": {},
     "output_type": "execute_result"
    }
   ],
   "execution_count": 57
  },
  {
   "metadata": {
    "ExecuteTime": {
     "end_time": "2025-03-20T05:15:19.035336Z",
     "start_time": "2025-03-20T05:15:19.018332Z"
    }
   },
   "cell_type": "code",
   "source": "df.groupby(\"Age_Group\")[\"Product_Category\"].value_counts().groupby(level=0).head(1)",
   "id": "9bd5348d7b1906ba",
   "outputs": [
    {
     "data": {
      "text/plain": [
       "Age_Group    Product_Category\n",
       "Adult        Clothing            2934\n",
       "Senior       Electronics         1351\n",
       "Young Adult  Toys                2173\n",
       "Name: count, dtype: int64"
      ]
     },
     "execution_count": 58,
     "metadata": {},
     "output_type": "execute_result"
    }
   ],
   "execution_count": 58
  },
  {
   "metadata": {
    "ExecuteTime": {
     "end_time": "2025-03-20T05:19:15.843245Z",
     "start_time": "2025-03-20T05:19:15.834279Z"
    }
   },
   "cell_type": "code",
   "source": "df.groupby(\"Product_Category\")[\"Purchase_Amount\"].sum().sort_values(ascending=False).head(5)",
   "id": "350c1690a874e471",
   "outputs": [
    {
     "data": {
      "text/plain": [
       "Product_Category\n",
       "Sports         3195335.90\n",
       "Toys           3185652.36\n",
       "Books          3181897.30\n",
       "Clothing       3171225.96\n",
       "Electronics    3133965.04\n",
       "Name: Purchase_Amount, dtype: float64"
      ]
     },
     "execution_count": 61,
     "metadata": {},
     "output_type": "execute_result"
    }
   ],
   "execution_count": 61
  },
  {
   "metadata": {
    "ExecuteTime": {
     "end_time": "2025-03-20T05:20:23.948958Z",
     "start_time": "2025-03-20T05:20:23.939956Z"
    }
   },
   "cell_type": "code",
   "source": "df.groupby(\"Country\")[\"Purchase_Amount\"].sum().sort_values(ascending=False)",
   "id": "f6c11fcf684ae6b6",
   "outputs": [
    {
     "data": {
      "text/plain": [
       "Country\n",
       "France       2545739.19\n",
       "Canada       2544335.12\n",
       "USA          2541220.22\n",
       "Mexico       2534475.67\n",
       "Australia    2514911.65\n",
       "Brazil       2507287.54\n",
       "India        2503542.71\n",
       "Germany      2502442.20\n",
       "Japan        2492312.20\n",
       "UK           2471723.15\n",
       "Name: Purchase_Amount, dtype: float64"
      ]
     },
     "execution_count": 63,
     "metadata": {},
     "output_type": "execute_result"
    }
   ],
   "execution_count": 63
  },
  {
   "metadata": {
    "ExecuteTime": {
     "end_time": "2025-03-20T05:24:18.027462Z",
     "start_time": "2025-03-20T05:24:18.013418Z"
    }
   },
   "cell_type": "code",
   "source": "df.groupby(\"Transaction_ID\")[\"Purchase_Amount\"].sum().sort_values(ascending=False).head(5)",
   "id": "bffd987de85e9c5d",
   "outputs": [
    {
     "data": {
      "text/plain": [
       "Transaction_ID\n",
       "47133    999.98\n",
       "41015    999.98\n",
       "36985    999.95\n",
       "19236    999.94\n",
       "20014    999.93\n",
       "Name: Purchase_Amount, dtype: float64"
      ]
     },
     "execution_count": 67,
     "metadata": {},
     "output_type": "execute_result"
    }
   ],
   "execution_count": 67
  },
  {
   "metadata": {
    "ExecuteTime": {
     "end_time": "2025-03-20T05:25:33.644523Z",
     "start_time": "2025-03-20T05:25:33.635555Z"
    }
   },
   "cell_type": "code",
   "source": "df.groupby(\"Country\")[\"Transaction_ID\"].sum().sort_values(ascending=False).head(1)",
   "id": "994df6695ee107f6",
   "outputs": [
    {
     "data": {
      "text/plain": [
       "Country\n",
       "Mexico    126317929\n",
       "Name: Transaction_ID, dtype: int64"
      ]
     },
     "execution_count": 69,
     "metadata": {},
     "output_type": "execute_result"
    }
   ],
   "execution_count": 69
  },
  {
   "metadata": {
    "ExecuteTime": {
     "end_time": "2025-03-20T05:27:57.186340Z",
     "start_time": "2025-03-20T05:27:57.151298Z"
    }
   },
   "cell_type": "code",
   "source": "df.info()",
   "id": "d5acbe1a907e24cf",
   "outputs": [
    {
     "name": "stdout",
     "output_type": "stream",
     "text": [
      "<class 'pandas.core.frame.DataFrame'>\n",
      "RangeIndex: 50000 entries, 0 to 49999\n",
      "Data columns (total 9 columns):\n",
      " #   Column            Non-Null Count  Dtype         \n",
      "---  ------            --------------  -----         \n",
      " 0   Transaction_ID    50000 non-null  int64         \n",
      " 1   User_Name         50000 non-null  object        \n",
      " 2   Age               50000 non-null  int64         \n",
      " 3   Country           50000 non-null  object        \n",
      " 4   Product_Category  50000 non-null  object        \n",
      " 5   Purchase_Amount   50000 non-null  float64       \n",
      " 6   Payment_Method    50000 non-null  object        \n",
      " 7   Transaction_Date  50000 non-null  datetime64[ns]\n",
      " 8   Age_Group         50000 non-null  object        \n",
      "dtypes: datetime64[ns](1), float64(1), int64(2), object(5)\n",
      "memory usage: 3.4+ MB\n"
     ]
    }
   ],
   "execution_count": 72
  },
  {
   "metadata": {
    "ExecuteTime": {
     "end_time": "2025-03-20T05:28:05.730261Z",
     "start_time": "2025-03-20T05:28:05.713263Z"
    }
   },
   "cell_type": "code",
   "source": "df[\"Transaction_Date\"] = pd.to_datetime(df[\"Transaction_Date\"])\n",
   "id": "cee48d0d8695ec57",
   "outputs": [],
   "execution_count": 73
  },
  {
   "metadata": {
    "ExecuteTime": {
     "end_time": "2025-03-20T05:34:15.062339Z",
     "start_time": "2025-03-20T05:34:15.029140Z"
    }
   },
   "cell_type": "code",
   "source": [
    "daily_revenue = df.resample('D', on=\"Transaction_Date\")[\"Purchase_Amount\"].sum()\n",
    "print(daily_revenue.head())\n"
   ],
   "id": "3f9c04d3906decf1",
   "outputs": [
    {
     "name": "stdout",
     "output_type": "stream",
     "text": [
      "Transaction_Date\n",
      "2023-03-09    34211.92\n",
      "2023-03-10    35190.87\n",
      "2023-03-11    33670.82\n",
      "2023-03-12    40101.44\n",
      "2023-03-13    32031.16\n",
      "Freq: D, Name: Purchase_Amount, dtype: float64\n"
     ]
    }
   ],
   "execution_count": 81
  },
  {
   "metadata": {
    "ExecuteTime": {
     "end_time": "2025-03-20T05:29:37.532828Z",
     "start_time": "2025-03-20T05:29:37.498266Z"
    }
   },
   "cell_type": "code",
   "source": [
    "weekly_revenue = df.resample('W', on=\"Transaction_Date\")[\"Purchase_Amount\"].sum()\n",
    "print(weekly_revenue.head())\n"
   ],
   "id": "e742c3125e0edd40",
   "outputs": [
    {
     "name": "stdout",
     "output_type": "stream",
     "text": [
      "Transaction_Date\n",
      "2023-03-12    143175.05\n",
      "2023-03-19    231590.20\n",
      "2023-03-26    258201.44\n",
      "2023-04-02    235633.97\n",
      "2023-04-09    231284.95\n",
      "Freq: W-SUN, Name: Purchase_Amount, dtype: float64\n"
     ]
    }
   ],
   "execution_count": 76
  },
  {
   "metadata": {
    "ExecuteTime": {
     "end_time": "2025-03-20T05:30:52.399084Z",
     "start_time": "2025-03-20T05:30:52.364758Z"
    }
   },
   "cell_type": "code",
   "source": [
    "monthly_revenue = df.resample('M', on=\"Transaction_Date\")[\"Purchase_Amount\"].sum()\n",
    "print(monthly_revenue.head())"
   ],
   "id": "93f1f0f951965ab6",
   "outputs": [
    {
     "name": "stdout",
     "output_type": "stream",
     "text": [
      "Transaction_Date\n",
      "2023-03-31     802390.44\n",
      "2023-04-30    1046921.48\n",
      "2023-05-31    1050553.40\n",
      "2023-06-30    1011635.06\n",
      "2023-07-31    1105402.88\n",
      "Freq: ME, Name: Purchase_Amount, dtype: float64\n"
     ]
    }
   ],
   "execution_count": 78
  },
  {
   "metadata": {
    "ExecuteTime": {
     "end_time": "2025-03-20T05:41:37.571795Z",
     "start_time": "2025-03-20T05:41:37.563798Z"
    }
   },
   "cell_type": "code",
   "source": "df[\"Payment_Method\"].value_counts()",
   "id": "3aebb5e859515eab",
   "outputs": [
    {
     "data": {
      "text/plain": [
       "Payment_Method\n",
       "UPI                 8477\n",
       "Cash on Delivery    8434\n",
       "Debit Card          8355\n",
       "Credit Card         8310\n",
       "PayPal              8250\n",
       "Net Banking         8174\n",
       "Name: count, dtype: int64"
      ]
     },
     "execution_count": 87,
     "metadata": {},
     "output_type": "execute_result"
    }
   ],
   "execution_count": 87
  },
  {
   "metadata": {
    "ExecuteTime": {
     "end_time": "2025-03-20T05:42:34.521946Z",
     "start_time": "2025-03-20T05:42:34.511929Z"
    }
   },
   "cell_type": "code",
   "source": "df[\"Payment_Method\"].value_counts().head(3)",
   "id": "f4287194bd8539e9",
   "outputs": [
    {
     "data": {
      "text/plain": [
       "Payment_Method\n",
       "UPI                 8477\n",
       "Cash on Delivery    8434\n",
       "Debit Card          8355\n",
       "Name: count, dtype: int64"
      ]
     },
     "execution_count": 88,
     "metadata": {},
     "output_type": "execute_result"
    }
   ],
   "execution_count": 88
  },
  {
   "metadata": {
    "ExecuteTime": {
     "end_time": "2025-03-20T05:44:19.777834Z",
     "start_time": "2025-03-20T05:44:19.768650Z"
    }
   },
   "cell_type": "code",
   "source": "df.groupby(\"Payment_Method\")[\"Purchase_Amount\"].sum().sort_values(ascending=False)",
   "id": "b8415b891010269f",
   "outputs": [
    {
     "data": {
      "text/plain": [
       "Payment_Method\n",
       "Cash on Delivery    4276269.38\n",
       "UPI                 4259355.65\n",
       "Debit Card          4234776.21\n",
       "PayPal              4173529.85\n",
       "Credit Card         4150547.15\n",
       "Net Banking         4063511.41\n",
       "Name: Purchase_Amount, dtype: float64"
      ]
     },
     "execution_count": 90,
     "metadata": {},
     "output_type": "execute_result"
    }
   ],
   "execution_count": 90
  },
  {
   "metadata": {
    "ExecuteTime": {
     "end_time": "2025-03-20T05:45:15.868727Z",
     "start_time": "2025-03-20T05:45:15.644096Z"
    }
   },
   "cell_type": "code",
   "source": [
    "\n",
    "\n",
    "df.groupby(\"Payment_Method\")[\"Purchase_Amount\"].sum().sort_values(ascending=False).plot(\n",
    "    kind=\"bar\", figsize=(10, 5), color=\"skyblue\"\n",
    ")\n",
    "plt.title(\"Total Purchase Amount by Payment Method\")\n",
    "plt.xlabel(\"Payment Method\")\n",
    "plt.ylabel(\"Total Purchase Amount\")\n",
    "plt.xticks(rotation=45)\n",
    "plt.show()\n"
   ],
   "id": "7fba8d94ae34d988",
   "outputs": [
    {
     "data": {
      "text/plain": [
       "<Figure size 1000x500 with 1 Axes>"
      ],
      "image/png": "[encoded data removed]"
     },
     "metadata": {},
     "output_type": "display_data"
    }
   ],
   "execution_count": 91
  },
  {
   "metadata": {
    "ExecuteTime": {
     "end_time": "2025-03-20T05:48:55.227296Z",
     "start_time": "2025-03-20T05:48:55.141716Z"
    }
   },
   "cell_type": "code",
   "source": [
    "transactions = df.resample('M', on=\"Transaction_Date\")[\"Transsaction_ID\"].sum()\n",
    "print(transactions.head(1))"
   ],
   "id": "126afb9fc1aefc52",
   "outputs": [
    {
     "ename": "KeyError",
     "evalue": "'Column not found: Transsaction_ID'",
     "output_type": "error",
     "traceback": [
      "\u001B[1;31m---------------------------------------------------------------------------\u001B[0m",
      "\u001B[1;31mKeyError\u001B[0m                                  Traceback (most recent call last)",
      "Cell \u001B[1;32mIn[92], line 1\u001B[0m\n\u001B[1;32m----> 1\u001B[0m transactions \u001B[38;5;241m=\u001B[39m df\u001B[38;5;241m.\u001B[39mresample(\u001B[38;5;124m'\u001B[39m\u001B[38;5;124mM\u001B[39m\u001B[38;5;124m'\u001B[39m, on\u001B[38;5;241m=\u001B[39m\u001B[38;5;124m\"\u001B[39m\u001B[38;5;124mTransaction_Date\u001B[39m\u001B[38;5;124m\"\u001B[39m)[\u001B[38;5;124m\"\u001B[39m\u001B[38;5;124mTranssaction_ID\u001B[39m\u001B[38;5;124m\"\u001B[39m]\u001B[38;5;241m.\u001B[39msum()\n\u001B[0;32m      2\u001B[0m \u001B[38;5;28mprint\u001B[39m(transactions\u001B[38;5;241m.\u001B[39mhead(\u001B[38;5;241m1\u001B[39m))\n",
      "File \u001B[1;32m~\\miniconda3\\Lib\\site-packages\\pandas\\core\\base.py:244\u001B[0m, in \u001B[0;36mSelectionMixin.__getitem__\u001B[1;34m(self, key)\u001B[0m\n\u001B[0;32m    242\u001B[0m \u001B[38;5;28;01melse\u001B[39;00m:\n\u001B[0;32m    243\u001B[0m     \u001B[38;5;28;01mif\u001B[39;00m key \u001B[38;5;129;01mnot\u001B[39;00m \u001B[38;5;129;01min\u001B[39;00m \u001B[38;5;28mself\u001B[39m\u001B[38;5;241m.\u001B[39mobj:\n\u001B[1;32m--> 244\u001B[0m         \u001B[38;5;28;01mraise\u001B[39;00m \u001B[38;5;167;01mKeyError\u001B[39;00m(\u001B[38;5;124mf\u001B[39m\u001B[38;5;124m\"\u001B[39m\u001B[38;5;124mColumn not found: \u001B[39m\u001B[38;5;132;01m{\u001B[39;00mkey\u001B[38;5;132;01m}\u001B[39;00m\u001B[38;5;124m\"\u001B[39m)\n\u001B[0;32m    245\u001B[0m     ndim \u001B[38;5;241m=\u001B[39m \u001B[38;5;28mself\u001B[39m\u001B[38;5;241m.\u001B[39mobj[key]\u001B[38;5;241m.\u001B[39mndim\n\u001B[0;32m    246\u001B[0m     \u001B[38;5;28;01mreturn\u001B[39;00m \u001B[38;5;28mself\u001B[39m\u001B[38;5;241m.\u001B[39m_gotitem(key, ndim\u001B[38;5;241m=\u001B[39mndim)\n",
      "\u001B[1;31mKeyError\u001B[0m: 'Column not found: Transsaction_ID'"
     ]
    }
   ],
   "execution_count": 92
  },
  {
   "metadata": {
    "ExecuteTime": {
     "end_time": "2025-03-20T05:51:25.311863Z",
     "start_time": "2025-03-20T05:51:25.306762Z"
    }
   },
   "cell_type": "code",
   "source": [
    "transactions = df.resample('M', on=\"Transaction_Date\")[\"Transaction_ID\"].count().sort_values(ascending=False)\n",
    "print(transactions.head(1))\n"
   ],
   "id": "9913cfd349d06159",
   "outputs": [
    {
     "ename": "SyntaxError",
     "evalue": "invalid syntax (2647751095.py, line 1)",
     "output_type": "error",
     "traceback": [
      "\u001B[1;36m  Cell \u001B[1;32mIn[97], line 1\u001B[1;36m\u001B[0m\n\u001B[1;33m    transactions = df.resample('M', on=\"Transaction_Date\")[\"Transaction_ID\"].count().(ascending=False)\u001B[0m\n\u001B[1;37m                                                                                     ^\u001B[0m\n\u001B[1;31mSyntaxError\u001B[0m\u001B[1;31m:\u001B[0m invalid syntax\n"
     ]
    }
   ],
   "execution_count": 97
  },
  {
   "metadata": {
    "ExecuteTime": {
     "end_time": "2025-03-20T05:52:04.847035Z",
     "start_time": "2025-03-20T05:52:04.811490Z"
    }
   },
   "cell_type": "code",
   "source": [
    "transactions = df.resample('M', on=\"Transaction_Date\")[\"Transaction_ID\"].count().sort_values(ascending=False)\n",
    "print(transactions.head(1))\n"
   ],
   "id": "40d33746cb46a172",
   "outputs": [
    {
     "name": "stdout",
     "output_type": "stream",
     "text": [
      "Transaction_Date\n",
      "2024-01-31    2190\n",
      "Name: Transaction_ID, dtype: int64\n"
     ]
    }
   ],
   "execution_count": 98
  },
  {
   "metadata": {
    "ExecuteTime": {
     "end_time": "2025-03-20T05:53:15.027462Z",
     "start_time": "2025-03-20T05:53:14.992421Z"
    }
   },
   "cell_type": "code",
   "source": "df[\"Transaction_Hour\"] = df[\"Transaction_Date\"].dt.hour\n",
   "id": "978cc2f32dfe9dc2",
   "outputs": [],
   "execution_count": 99
  },
  {
   "metadata": {
    "ExecuteTime": {
     "end_time": "2025-03-20T05:53:24.912308Z",
     "start_time": "2025-03-20T05:53:24.895917Z"
    }
   },
   "cell_type": "code",
   "source": [
    "peak_time = df[\"Transaction_Hour\"].value_counts().sort_values(ascending=False)\n",
    "print(peak_time.head(1))  # Shows the peak hour\n"
   ],
   "id": "3494a0df204b80ab",
   "outputs": [
    {
     "name": "stdout",
     "output_type": "stream",
     "text": [
      "Transaction_Hour\n",
      "0    50000\n",
      "Name: count, dtype: int64\n"
     ]
    }
   ],
   "execution_count": 100
  },
  {
   "metadata": {
    "ExecuteTime": {
     "end_time": "2025-03-20T05:55:41.292096Z",
     "start_time": "2025-03-20T05:55:41.267543Z"
    }
   },
   "cell_type": "code",
   "source": [
    "df[\"Transaction_Date\"] = pd.to_datetime(df[\"Transaction_Date\"])\n",
    "df[\"Weekday\"] = df[\"Transaction_Date\"].dt.dayofweek  # Monday = 0, Sunday = 6\n",
    "df[\"Day_Type\"] = df[\"Weekday\"].apply(lambda x: \"Weekend\" if x >= 5 else \"Weekday\")\n"
   ],
   "id": "f8ca399420599f93",
   "outputs": [],
   "execution_count": 104
  },
  {
   "metadata": {
    "ExecuteTime": {
     "end_time": "2025-03-20T05:55:42.527222Z",
     "start_time": "2025-03-20T05:55:42.514836Z"
    }
   },
   "cell_type": "code",
   "source": [
    "revenue_by_day_type = df.groupby(\"Day_Type\")[\"Purchase_Amount\"].sum()\n",
    "print(revenue_by_day_type)\n"
   ],
   "id": "145648d8aa8f3317",
   "outputs": [
    {
     "name": "stdout",
     "output_type": "stream",
     "text": [
      "Day_Type\n",
      "Weekday    17865111.70\n",
      "Weekend     7292877.95\n",
      "Name: Purchase_Amount, dtype: float64\n"
     ]
    }
   ],
   "execution_count": 105
  },
  {
   "metadata": {
    "ExecuteTime": {
     "end_time": "2025-03-20T05:56:07.361141Z",
     "start_time": "2025-03-20T05:56:07.236618Z"
    }
   },
   "cell_type": "code",
   "source": [
    "\n",
    "plt.figure(figsize=(8, 5))\n",
    "sns.barplot(x=revenue_by_day_type.index, y=revenue_by_day_type.values, palette=[\"blue\", \"orange\"])\n",
    "plt.xlabel(\"Day Type\")\n",
    "plt.ylabel(\"Total Revenue\")\n",
    "plt.title(\"Weekday vs. Weekend Revenue\")\n",
    "plt.show()\n"
   ],
   "id": "cb4ed5334c70620d",
   "outputs": [
    {
     "data": {
      "text/plain": [
       "<Figure size 800x500 with 1 Axes>"
      ],
      "image/png": "[encoded data removed]"
     },
     "metadata": {},
     "output_type": "display_data"
    }
   ],
   "execution_count": 106
  }
 ],
 "metadata": {
  "kernelspec": {
   "display_name": "Python 3",
   "language": "python",
   "name": "python3"
  },
  "language_info": {
   "codemirror_mode": {
    "name": "ipython",
    "version": 2
   },
   "file_extension": ".py",
   "mimetype": "text/x-python",
   "name": "python",
   "nbconvert_exporter": "python",
   "pygments_lexer": "ipython2",
   "version": "2.7.6"
  }
 },
 "nbformat": 4,
 "nbformat_minor": 5
}
